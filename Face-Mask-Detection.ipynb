{
 "cells": [
  {
   "cell_type": "markdown",
   "id": "65e61918",
   "metadata": {},
   "source": [
    "#  FACE-MASK DETECTION"
   ]
  },
  {
   "cell_type": "markdown",
   "id": "de0d6fb0",
   "metadata": {},
   "source": [
    "Here we develop a model to detect if a person is wearing a mask or not from an image\n",
    "The dataset to train the model is taken from https://www.kaggle.com/prithwirajmitra/covid-face-mask-detection-dataset"
   ]
  },
  {
   "cell_type": "markdown",
   "id": "b4dae12d",
   "metadata": {},
   "source": [
    "## Data Pre-Processing"
   ]
  },
  {
   "cell_type": "code",
   "execution_count": 1,
   "id": "b713e333",
   "metadata": {},
   "outputs": [],
   "source": [
    "import numpy as np\n",
    "import matplotlib.pyplot as plt\n",
    "import PIL"
   ]
  },
  {
   "cell_type": "code",
   "execution_count": 2,
   "id": "96de1713",
   "metadata": {},
   "outputs": [],
   "source": [
    "from tensorflow.keras.preprocessing.image import img_to_array\n",
    "from tensorflow.keras.preprocessing.image import load_img\n",
    "from tensorflow.keras.applications.mobilenet_v2 import preprocess_input\n",
    "def image_preprocessor(image_path):\n",
    "    \"\"\"\n",
    "    The function takes in the file path of an image and converts into an RGB array and normalises it\n",
    "    \"\"\"\n",
    "    image = load_img(image_path, target_size=(224, 224))\n",
    "    image = img_to_array(image)\n",
    "    image = preprocess_input(image)\n",
    "    return image"
   ]
  },
  {
   "cell_type": "code",
   "execution_count": 3,
   "id": "475eb5dc",
   "metadata": {},
   "outputs": [],
   "source": [
    "import os\n",
    "#Reading the image files and storing them in form of numpy arrays\n",
    "directory = r\"C:\\\\Users\\\\Naushin\\\\Desktop\"\n",
    "\n",
    "data_set = []\n",
    "category = []\n",
    "\n",
    "file_path = os.path.join(directory,\"Mask\")\n",
    "for item in os.listdir(file_path):\n",
    "    image_path = os.path.join(file_path, item)\n",
    "    image = image_preprocessor(image_path)\n",
    "    data_set.append(image)\n",
    "    #1 for Mask\n",
    "    category.append(1)\n",
    "\n",
    "\n",
    "file_path = os.path.join(directory,\"Non mask\")    \n",
    "for item in os.listdir(file_path):\n",
    "    image_path = os.path.join(file_path, item)\n",
    "    image = image_preprocessor(image_path)\n",
    "    data_set.append(image)\n",
    "    #0 for No Mask\n",
    "    category.append(0)  \n",
    "    \n",
    "data_set = np.array(data_set)\n",
    "category  = np.array(category)\n",
    " \n",
    "    \n"
   ]
  },
  {
   "cell_type": "code",
   "execution_count": 4,
   "id": "27906fac",
   "metadata": {},
   "outputs": [
    {
     "data": {
      "text/plain": [
       "(1006, 224, 224, 3)"
      ]
     },
     "execution_count": 4,
     "metadata": {},
     "output_type": "execute_result"
    }
   ],
   "source": [
    "data_set.shape"
   ]
  },
  {
   "cell_type": "markdown",
   "id": "f1831b92",
   "metadata": {},
   "source": [
    "## Data-Augmentation and Designing the model\n"
   ]
  },
  {
   "cell_type": "markdown",
   "id": "e4d5e136",
   "metadata": {},
   "source": [
    "First, we do the test train split, and then do data augmentation on the training data"
   ]
  },
  {
   "cell_type": "code",
   "execution_count": 5,
   "id": "700f7ab5",
   "metadata": {},
   "outputs": [],
   "source": [
    "from sklearn.model_selection import train_test_split\n",
    "\n",
    "X_train, X_test, y_train, y_test = train_test_split(data_set, category, test_size=0.33, random_state=42)"
   ]
  },
  {
   "cell_type": "code",
   "execution_count": 17,
   "id": "9db940d2",
   "metadata": {},
   "outputs": [],
   "source": [
    "#Constructing an image generator\n",
    "from tensorflow.keras.preprocessing.image import ImageDataGenerator\n",
    "aug = ImageDataGenerator(rotation_range=45,zoom_range=0.3,width_shift_range=0.3,\n",
    "                               height_shift_range=0.3,shear_range=0.1,horizontal_flip=True,fill_mode=\"nearest\")"
   ]
  },
  {
   "cell_type": "code",
   "execution_count": 18,
   "id": "ea2a254c",
   "metadata": {},
   "outputs": [],
   "source": [
    "#importing the necessary features\n",
    "from tensorflow.keras.applications import MobileNetV2\n",
    "from tensorflow.keras.models import Sequential\n",
    "from tensorflow.keras.layers import AveragePooling2D, Dropout, Flatten, Dense,Input\n",
    "from tensorflow.keras.models import Model\n"
   ]
  },
  {
   "cell_type": "code",
   "execution_count": 19,
   "id": "61ea620f",
   "metadata": {},
   "outputs": [
    {
     "name": "stdout",
     "output_type": "stream",
     "text": [
      "WARNING:tensorflow:`input_shape` is undefined or non-square, or `rows` is not in [96, 128, 160, 192, 224]. Weights for input shape (224, 224) will be loaded as the default.\n"
     ]
    }
   ],
   "source": [
    "#This is an image classification model and we are initialising the weights with  pre-trained weights on ImageNet\n",
    "initial_model = MobileNetV2(include_top=False,weights=\"imagenet\", input_tensor=Input(shape=(224, 224, 3)))"
   ]
  },
  {
   "cell_type": "code",
   "execution_count": 20,
   "id": "b60ff0ff",
   "metadata": {},
   "outputs": [],
   "source": [
    "#creating the neural network\n",
    "model = Sequential(initial_model)\n",
    "model.add(AveragePooling2D(pool_size=(7, 7)))\n",
    "model.add(Flatten(name=\"flatten\"))\n",
    "model.add(Dense(128, activation=\"relu\"))\n",
    "model.add(Dropout(0.5))\n",
    "model.add(Dense(1, activation=\"sigmoid\"))\n"
   ]
  },
  {
   "cell_type": "code",
   "execution_count": 21,
   "id": "aa4d3159",
   "metadata": {},
   "outputs": [],
   "source": [
    "#freezing the layers in initial model(transfer learning)\n",
    "for layer in initial_model.layers:\n",
    "    layer.trainable = False"
   ]
  },
  {
   "cell_type": "code",
   "execution_count": 22,
   "id": "cde0a4d4",
   "metadata": {},
   "outputs": [],
   "source": [
    "#Using early stopping\n",
    "from tensorflow.keras.callbacks import EarlyStopping\n",
    "early_stop = EarlyStopping(monitor='val_loss', mode='min', verbose=2, patience=5)"
   ]
  },
  {
   "cell_type": "code",
   "execution_count": 23,
   "id": "8aed40bc",
   "metadata": {},
   "outputs": [],
   "source": [
    "#Compiling the model\n",
    "model.compile(loss=\"binary_crossentropy\", optimizer=\"Adam\",metrics=[\"accuracy\"])\n"
   ]
  },
  {
   "cell_type": "markdown",
   "id": "a29778d8",
   "metadata": {},
   "source": [
    "## Training the model"
   ]
  },
  {
   "cell_type": "markdown",
   "id": "a5ee55cd",
   "metadata": {},
   "source": [
    "The model is fitted with the training data"
   ]
  },
  {
   "cell_type": "code",
   "execution_count": 37,
   "id": "5f4af8b5",
   "metadata": {},
   "outputs": [
    {
     "name": "stdout",
     "output_type": "stream",
     "text": [
      "Epoch 1/50\n",
      "21/21 [==============================] - 23s 1s/step - loss: 0.1023 - accuracy: 0.9688 - val_loss: 0.0232 - val_accuracy: 0.9910\n",
      "Epoch 2/50\n",
      "21/21 [==============================] - 24s 1s/step - loss: 0.0559 - accuracy: 0.9829 - val_loss: 0.0218 - val_accuracy: 0.9880\n",
      "Epoch 3/50\n",
      "21/21 [==============================] - 24s 1s/step - loss: 0.0631 - accuracy: 0.9766 - val_loss: 0.0224 - val_accuracy: 0.9880\n",
      "Epoch 4/50\n",
      "21/21 [==============================] - 24s 1s/step - loss: 0.0386 - accuracy: 0.9875 - val_loss: 0.0225 - val_accuracy: 0.9910\n",
      "Epoch 5/50\n",
      "21/21 [==============================] - 25s 1s/step - loss: 0.0652 - accuracy: 0.9751 - val_loss: 0.0335 - val_accuracy: 0.9910\n",
      "Epoch 6/50\n",
      "21/21 [==============================] - 24s 1s/step - loss: 0.0322 - accuracy: 0.9891 - val_loss: 0.0231 - val_accuracy: 0.9880\n",
      "Epoch 7/50\n",
      "21/21 [==============================] - 24s 1s/step - loss: 0.0360 - accuracy: 0.9891 - val_loss: 0.0279 - val_accuracy: 0.9880\n",
      "Epoch 00007: early stopping\n"
     ]
    },
    {
     "data": {
      "text/plain": [
       "<tensorflow.python.keras.callbacks.History at 0x2c98fb0fc10>"
      ]
     },
     "execution_count": 37,
     "metadata": {},
     "output_type": "execute_result"
    }
   ],
   "source": [
    "model.fit( aug.flow(X_train, y_train, batch_size=32), steps_per_epoch=len(X_train) // 32, validation_data=(X_test, y_test),\n",
    "          validation_steps=len(X_test) // 32, callbacks=[early_stop], epochs=50)"
   ]
  },
  {
   "cell_type": "code",
   "execution_count": 25,
   "id": "20f138f6",
   "metadata": {},
   "outputs": [
    {
     "data": {
      "text/plain": [
       "<AxesSubplot:>"
      ]
     },
     "execution_count": 25,
     "metadata": {},
     "output_type": "execute_result"
    },
    {
     "data": {
      "image/png": "[encoded data removed]",
      "text/plain": [
       "<Figure size 432x288 with 1 Axes>"
      ]
     },
     "metadata": {
      "needs_background": "light"
     },
     "output_type": "display_data"
    }
   ],
   "source": [
    "import pandas as pd\n",
    "model_loss = pd.DataFrame(model.history.history)\n",
    "model_loss.plot()"
   ]
  },
  {
   "cell_type": "markdown",
   "id": "93ba5272",
   "metadata": {},
   "source": [
    "## Testing the model"
   ]
  },
  {
   "cell_type": "code",
   "execution_count": 38,
   "id": "401dd73f",
   "metadata": {},
   "outputs": [],
   "source": [
    "predictions = model.predict(X_test)>0.5\n"
   ]
  },
  {
   "cell_type": "code",
   "execution_count": 39,
   "id": "e08e21de",
   "metadata": {},
   "outputs": [],
   "source": [
    "from sklearn.metrics import classification_report,confusion_matrix"
   ]
  },
  {
   "cell_type": "code",
   "execution_count": 156,
   "id": "e2943a1e",
   "metadata": {},
   "outputs": [
    {
     "name": "stdout",
     "output_type": "stream",
     "text": [
      "[[157   3]\n",
      " [  1 171]]\n",
      "\n",
      "\n",
      "              precision    recall  f1-score   support\n",
      "\n",
      "           0       0.99      0.98      0.99       160\n",
      "           1       0.98      0.99      0.99       172\n",
      "\n",
      "    accuracy                           0.99       332\n",
      "   macro avg       0.99      0.99      0.99       332\n",
      "weighted avg       0.99      0.99      0.99       332\n",
      "\n"
     ]
    }
   ],
   "source": [
    "print(confusion_matrix(y_test,predictions))\n",
    "print(\"\\n\")\n",
    "print(classification_report(y_test,predictions))      \n"
   ]
  },
  {
   "cell_type": "markdown",
   "id": "8e5d963b",
   "metadata": {},
   "source": [
    "The accuracy is 99%"
   ]
  }
 ],
 "metadata": {
  "kernelspec": {
   "display_name": "Python 3",
   "language": "python",
   "name": "python3"
  },
  "language_info": {
   "codemirror_mode": {
    "name": "ipython",
    "version": 3
   },
   "file_extension": ".py",
   "mimetype": "text/x-python",
   "name": "python",
   "nbconvert_exporter": "python",
   "pygments_lexer": "ipython3",
   "version": "3.8.10"
  }
 },
 "nbformat": 4,
 "nbformat_minor": 5
}
